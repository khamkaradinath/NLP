{
 "cells": [
  {
   "cell_type": "code",
   "execution_count": 12,
   "id": "6b9270d1",
   "metadata": {},
   "outputs": [
    {
     "data": {
      "text/plain": [
       "{'shaun': 4, 'is': 1, 'looking': 3, 'for': 0, 'job': 2}"
      ]
     },
     "execution_count": 12,
     "metadata": {},
     "output_type": "execute_result"
    }
   ],
   "source": [
    "from sklearn.feature_extraction.text import CountVectorizer\n",
    "\n",
    "v = CountVectorizer()\n",
    "v.fit([\"Shaun is looking for job\"])\n",
    "v.vocabulary_"
   ]
  },
  {
   "cell_type": "code",
   "execution_count": 26,
   "id": "265c53af",
   "metadata": {},
   "outputs": [
    {
     "name": "stdout",
     "output_type": "stream",
     "text": [
      "Vector representation of the new document:\n",
      "[[1 1 1 0 0]]\n"
     ]
    }
   ],
   "source": [
    "new_doc = \"ABC is searching for  job\"\n",
    "\n",
    "# Transform the new document using the fitted CountVectorizer\n",
    "vector = v.transform([new_doc])\n",
    "\n",
    "# Convert the sparse matrix to a dense array\n",
    "vector_array = vector.toarray()\n",
    "\n",
    "print(\"Vector representation of the new document:\")\n",
    "print(vector_array)"
   ]
  },
  {
   "cell_type": "code",
   "execution_count": 29,
   "id": "7c89d6a8",
   "metadata": {},
   "outputs": [
    {
     "data": {
      "text/plain": [
       "{'shaun is': 5,\n",
       " 'is looking': 1,\n",
       " 'looking for': 3,\n",
       " 'for job': 0,\n",
       " 'shaun is looking': 6,\n",
       " 'is looking for': 2,\n",
       " 'looking for job': 4}"
      ]
     },
     "execution_count": 29,
     "metadata": {},
     "output_type": "execute_result"
    }
   ],
   "source": [
    "v = CountVectorizer(ngram_range=(2,3))\n",
    "v.fit([\"Shaun is looking for job\"])\n",
    "v.vocabulary_"
   ]
  },
  {
   "cell_type": "code",
   "execution_count": 30,
   "id": "991ab7da",
   "metadata": {},
   "outputs": [
    {
     "name": "stdout",
     "output_type": "stream",
     "text": [
      "Vector representation of the new document:\n",
      "[[1 0 0 0 0 0 0]]\n"
     ]
    }
   ],
   "source": [
    "new_doc = \"ABC is searching for  job\"\n",
    "\n",
    "# Transform the new document using the fitted CountVectorizer\n",
    "vector = v.transform([new_doc])\n",
    "\n",
    "# Convert the sparse matrix to a dense array\n",
    "vector_array = vector.toarray()\n",
    "\n",
    "print(\"Vector representation of the new document:\")\n",
    "print(vector_array)"
   ]
  },
  {
   "cell_type": "code",
   "execution_count": 5,
   "id": "54c19c52",
   "metadata": {},
   "outputs": [
    {
     "data": {
      "text/plain": [
       "{'absolutely': 0,\n",
       " 'wonderful': 14,\n",
       " 'silky': 11,\n",
       " 'and': 3,\n",
       " 'easy': 8,\n",
       " 'comfortable': 7,\n",
       " 'absolutely wonderful': 1,\n",
       " 'wonderful silky': 15,\n",
       " 'silky and': 12,\n",
       " 'and easy': 5,\n",
       " 'easy and': 9,\n",
       " 'and comfortable': 4,\n",
       " 'absolutely wonderful silky': 2,\n",
       " 'wonderful silky and': 16,\n",
       " 'silky and easy': 13,\n",
       " 'and easy and': 6,\n",
       " 'easy and comfortable': 10}"
      ]
     },
     "execution_count": 5,
     "metadata": {},
     "output_type": "execute_result"
    }
   ],
   "source": [
    "v = CountVectorizer(ngram_range=(1,3))\n",
    "v.fit([\"Absolutely wonderful - silky and easy and comfortable\"])\n",
    "v.vocabulary_"
   ]
  },
  {
   "cell_type": "code",
   "execution_count": 6,
   "id": "c5827abf",
   "metadata": {},
   "outputs": [
    {
     "name": "stderr",
     "output_type": "stream",
     "text": [
      "C:\\Users\\hp\\anaconda4\\lib\\site-packages\\sklearn\\utils\\deprecation.py:87: FutureWarning: Function get_feature_names is deprecated; get_feature_names is deprecated in 1.0 and will be removed in 1.2. Please use get_feature_names_out instead.\n",
      "  warnings.warn(msg, category=FutureWarning)\n"
     ]
    },
    {
     "data": {
      "text/plain": [
       "['absolutely',\n",
       " 'absolutely wonderful',\n",
       " 'absolutely wonderful silky',\n",
       " 'and',\n",
       " 'and comfortable',\n",
       " 'and easy',\n",
       " 'and easy and',\n",
       " 'comfortable',\n",
       " 'easy',\n",
       " 'easy and',\n",
       " 'easy and comfortable',\n",
       " 'silky',\n",
       " 'silky and',\n",
       " 'silky and easy',\n",
       " 'wonderful',\n",
       " 'wonderful silky',\n",
       " 'wonderful silky and']"
      ]
     },
     "execution_count": 6,
     "metadata": {},
     "output_type": "execute_result"
    }
   ],
   "source": [
    "v.get_feature_names()"
   ]
  },
  {
   "cell_type": "code",
   "execution_count": 7,
   "id": "c4fac2f9",
   "metadata": {},
   "outputs": [],
   "source": [
    "v.get_stop_words()"
   ]
  },
  {
   "cell_type": "code",
   "execution_count": 8,
   "id": "df8b6dfe",
   "metadata": {},
   "outputs": [],
   "source": [
    "##We will not take a simple collection of text documents, preprocess them to remove stop words, lemmatize etc and then generate bag of 1 grams and 2 grams from it"
   ]
  },
  {
   "cell_type": "code",
   "execution_count": 16,
   "id": "24453bd6",
   "metadata": {},
   "outputs": [
    {
     "name": "stdout",
     "output_type": "stream",
     "text": [
      "Vocabulary:\n",
      "['applying', 'emily', 'for', 'is', 'job', 'john', 'looking', 'new', 'opportunities', 'position', 'searching', 'shaun']\n",
      "\n",
      "Bag-of-Words representation:\n",
      "[[0 0 1 1 1 0 1 0 0 0 0 1]\n",
      " [1 0 1 1 0 1 0 1 0 1 0 0]\n",
      " [0 1 1 1 1 0 0 0 1 0 1 0]]\n"
     ]
    }
   ],
   "source": [
    "from sklearn.feature_extraction.text import CountVectorizer\n",
    "\n",
    "texts = [\n",
    "    \"Shaun is looking for job\",\n",
    "    \"John is applying for a new position\",\n",
    "    \"Emily is searching for job opportunities\"\n",
    "]\n",
    "\n",
    "vectorizer = CountVectorizer()\n",
    "\n",
    "# Fit and transform the text data\n",
    "X = vectorizer.fit_transform(texts)\n",
    "\n",
    "print(\"Vocabulary:\")\n",
    "print(vectorizer.get_feature_names())\n",
    "\n",
    "# Display BOW representation of the text data\n",
    "print(\"\\nBag-of-Words representation:\")\n",
    "print(X.toarray())\n"
   ]
  },
  {
   "cell_type": "code",
   "execution_count": null,
   "id": "409f22a0",
   "metadata": {},
   "outputs": [],
   "source": []
  },
  {
   "cell_type": "code",
   "execution_count": null,
   "id": "c98a1f8c",
   "metadata": {},
   "outputs": [],
   "source": []
  },
  {
   "cell_type": "code",
   "execution_count": 9,
   "id": "0d8bca53",
   "metadata": {},
   "outputs": [],
   "source": [
    "corpus = [\n",
    "    \"Thor ate pizza\",\n",
    "    \"Loki is tall\",\n",
    "    \"Loki is eating pizza\"\n",
    "]"
   ]
  },
  {
   "cell_type": "code",
   "execution_count": 10,
   "id": "af168a24",
   "metadata": {},
   "outputs": [],
   "source": [
    "import spacy\n",
    "\n",
    "# load english language model and create nlp object from it\n",
    "nlp = spacy.load(\"en_core_web_sm\") \n",
    "\n",
    "def preprocess(text):\n",
    "    # remove stop words and lemmatize the text\n",
    "    doc = nlp(text)\n",
    "    filtered_tokens = []\n",
    "    for token in doc:\n",
    "        if token.is_stop or token.is_punct:\n",
    "            continue\n",
    "        filtered_tokens.append(token.lemma_)\n",
    "    \n",
    "    return \" \".join(filtered_tokens) "
   ]
  },
  {
   "cell_type": "code",
   "execution_count": 11,
   "id": "fc8a7557",
   "metadata": {},
   "outputs": [
    {
     "data": {
      "text/plain": [
       "'Thor eat pizza'"
      ]
     },
     "execution_count": 11,
     "metadata": {},
     "output_type": "execute_result"
    }
   ],
   "source": [
    "preprocess(\"Thor ate pizza\")"
   ]
  },
  {
   "cell_type": "code",
   "execution_count": 12,
   "id": "a78c884e",
   "metadata": {},
   "outputs": [
    {
     "data": {
      "text/plain": [
       "'Loki eat pizza'"
      ]
     },
     "execution_count": 12,
     "metadata": {},
     "output_type": "execute_result"
    }
   ],
   "source": [
    "preprocess(\"Loki is eating pizza\")"
   ]
  },
  {
   "cell_type": "code",
   "execution_count": 13,
   "id": "73b2aa0b",
   "metadata": {},
   "outputs": [
    {
     "data": {
      "text/plain": [
       "['Thor eat pizza', 'Loki tall', 'Loki eat pizza']"
      ]
     },
     "execution_count": 13,
     "metadata": {},
     "output_type": "execute_result"
    }
   ],
   "source": [
    "corpus_processed = [\n",
    "    preprocess(text) for text in corpus\n",
    "]\n",
    "corpus_processed"
   ]
  },
  {
   "cell_type": "code",
   "execution_count": 14,
   "id": "b8b3f286",
   "metadata": {},
   "outputs": [
    {
     "data": {
      "text/plain": [
       "{'thor': 7,\n",
       " 'eat': 0,\n",
       " 'pizza': 5,\n",
       " 'thor eat': 8,\n",
       " 'eat pizza': 1,\n",
       " 'loki': 2,\n",
       " 'tall': 6,\n",
       " 'loki tall': 4,\n",
       " 'loki eat': 3}"
      ]
     },
     "execution_count": 14,
     "metadata": {},
     "output_type": "execute_result"
    }
   ],
   "source": [
    "v = CountVectorizer(ngram_range=(1,2))\n",
    "v.fit(corpus_processed)\n",
    "v.vocabulary_"
   ]
  },
  {
   "cell_type": "code",
   "execution_count": 15,
   "id": "69ceddc6",
   "metadata": {},
   "outputs": [],
   "source": [
    "##Now generate bag of n gram vector for few sample documents"
   ]
  },
  {
   "cell_type": "code",
   "execution_count": 16,
   "id": "716b1a50",
   "metadata": {},
   "outputs": [
    {
     "data": {
      "text/plain": [
       "array([[1, 1, 0, 0, 0, 1, 0, 1, 1]], dtype=int64)"
      ]
     },
     "execution_count": 16,
     "metadata": {},
     "output_type": "execute_result"
    }
   ],
   "source": [
    "v.transform([\"Thor eat pizza\"]).toarray()"
   ]
  },
  {
   "cell_type": "code",
   "execution_count": 19,
   "id": "f677d46a",
   "metadata": {},
   "outputs": [],
   "source": [
    "from sklearn.feature_extraction.text import CountVectorizer"
   ]
  },
  {
   "cell_type": "code",
   "execution_count": 17,
   "id": "68c3a0d0",
   "metadata": {},
   "outputs": [],
   "source": [
    "corpus = [\n",
    "'This is the first document.',\n",
    " 'This document is the second document.',\n",
    " 'And this is the third one.',\n",
    " 'Is this the first document?',\n",
    "]"
   ]
  },
  {
   "cell_type": "code",
   "execution_count": 18,
   "id": "aef4c795",
   "metadata": {},
   "outputs": [],
   "source": [
    "vectorizer = CountVectorizer(ngram_range=(2, 2))"
   ]
  },
  {
   "cell_type": "code",
   "execution_count": 19,
   "id": "b2000b10",
   "metadata": {},
   "outputs": [],
   "source": [
    "X = vectorizer.fit_transform(corpus)"
   ]
  },
  {
   "cell_type": "code",
   "execution_count": 20,
   "id": "c9cd3057",
   "metadata": {},
   "outputs": [
    {
     "data": {
      "text/plain": [
       "array(['and this', 'document is', 'first document', 'is the', 'is this',\n",
       "       'second document', 'the first', 'the second', 'the third',\n",
       "       'third one', 'this document', 'this is', 'this the'], dtype=object)"
      ]
     },
     "execution_count": 20,
     "metadata": {},
     "output_type": "execute_result"
    }
   ],
   "source": [
    "vectorizer.get_feature_names_out()"
   ]
  },
  {
   "cell_type": "code",
   "execution_count": 21,
   "id": "3de2e2f5",
   "metadata": {},
   "outputs": [
    {
     "data": {
      "text/plain": [
       "{'this is': 11,\n",
       " 'is the': 3,\n",
       " 'the first': 6,\n",
       " 'first document': 2,\n",
       " 'this document': 10,\n",
       " 'document is': 1,\n",
       " 'the second': 7,\n",
       " 'second document': 5,\n",
       " 'and this': 0,\n",
       " 'the third': 8,\n",
       " 'third one': 9,\n",
       " 'is this': 4,\n",
       " 'this the': 12}"
      ]
     },
     "execution_count": 21,
     "metadata": {},
     "output_type": "execute_result"
    }
   ],
   "source": [
    "vectorizer.vocabulary_"
   ]
  },
  {
   "cell_type": "code",
   "execution_count": null,
   "id": "14437883",
   "metadata": {},
   "outputs": [],
   "source": []
  },
  {
   "cell_type": "code",
   "execution_count": null,
   "id": "facb483e",
   "metadata": {},
   "outputs": [],
   "source": []
  },
  {
   "cell_type": "code",
   "execution_count": 22,
   "id": "da2bfe75",
   "metadata": {},
   "outputs": [
    {
     "name": "stdout",
     "output_type": "stream",
     "text": [
      "Vocabulary:\n",
      "['applying', 'emily', 'for', 'is', 'job', 'john', 'looking', 'new', 'opportunities', 'position', 'searching', 'shaun']\n",
      "\n",
      "TF-IDF representation:\n",
      "[[0.         0.         0.32630952 0.32630952 0.42018292 0.\n",
      "  0.55249005 0.         0.         0.         0.         0.55249005]\n",
      " [0.46138073 0.         0.27249889 0.27249889 0.         0.46138073\n",
      "  0.         0.46138073 0.         0.46138073 0.         0.        ]\n",
      " [0.         0.48359121 0.28561676 0.28561676 0.36778358 0.\n",
      "  0.         0.         0.48359121 0.         0.48359121 0.        ]]\n"
     ]
    }
   ],
   "source": [
    "from sklearn.feature_extraction.text import TfidfVectorizer\n",
    "\n",
    "texts = [\n",
    "    \"Shaun is looking for job\",\n",
    "    \"John is applying for a new position\",\n",
    "    \"Emily is searching for job opportunities\"\n",
    "]\n",
    "\n",
    "# Initialize TfidfVectorizer\n",
    "vectorizer = TfidfVectorizer()\n",
    "\n",
    "# Fit and transform the text data\n",
    "X = vectorizer.fit_transform(texts)\n",
    "\n",
    "# Display vocabulary\n",
    "print(\"Vocabulary:\")\n",
    "print(vectorizer.get_feature_names())\n",
    "\n",
    "# Display TF-IDF representation of the text data\n",
    "print(\"\\nTF-IDF representation:\")\n",
    "print(X.toarray())\n"
   ]
  },
  {
   "cell_type": "code",
   "execution_count": null,
   "id": "0bbf7012",
   "metadata": {},
   "outputs": [],
   "source": []
  },
  {
   "cell_type": "code",
   "execution_count": null,
   "id": "51bc4350",
   "metadata": {},
   "outputs": [],
   "source": []
  },
  {
   "cell_type": "code",
   "execution_count": 24,
   "id": "938deb1a",
   "metadata": {},
   "outputs": [
    {
     "name": "stdout",
     "output_type": "stream",
     "text": [
      "One-hot encoded representation:\n",
      "[[0. 0. 1.]\n",
      " [1. 0. 0.]\n",
      " [0. 1. 0.]\n",
      " [0. 0. 1.]\n",
      " [1. 0. 0.]]\n"
     ]
    }
   ],
   "source": [
    "from sklearn.preprocessing import OneHotEncoder\n",
    "\n",
    "categories = [['red'], ['blue'], ['green'], ['red'], ['blue']]\n",
    "\n",
    "\n",
    "encoder = OneHotEncoder()\n",
    "\n",
    "# Fit and transform the categorical data\n",
    "X = encoder.fit_transform(categories)\n",
    "\n",
    "\n",
    "print(\"One-hot encoded representation:\")\n",
    "print(X.toarray())\n"
   ]
  },
  {
   "cell_type": "code",
   "execution_count": null,
   "id": "f9be0fe5",
   "metadata": {},
   "outputs": [],
   "source": []
  }
 ],
 "metadata": {
  "kernelspec": {
   "display_name": "Python 3 (ipykernel)",
   "language": "python",
   "name": "python3"
  },
  "language_info": {
   "codemirror_mode": {
    "name": "ipython",
    "version": 3
   },
   "file_extension": ".py",
   "mimetype": "text/x-python",
   "name": "python",
   "nbconvert_exporter": "python",
   "pygments_lexer": "ipython3",
   "version": "3.9.12"
  }
 },
 "nbformat": 4,
 "nbformat_minor": 5
}
