{
 "cells": [
  {
   "cell_type": "code",
   "execution_count": 1,
   "id": "378b0864",
   "metadata": {},
   "outputs": [],
   "source": [
    "import numpy as np\n",
    "import pandas as pd"
   ]
  },
  {
   "cell_type": "code",
   "execution_count": 2,
   "id": "8b467afc",
   "metadata": {},
   "outputs": [],
   "source": [
    "#!pip install gensim"
   ]
  },
  {
   "cell_type": "code",
   "execution_count": 3,
   "id": "ff8d6f93",
   "metadata": {},
   "outputs": [],
   "source": [
    "import gensim\n",
    "import os"
   ]
  },
  {
   "cell_type": "code",
   "execution_count": 4,
   "id": "d2ef7b67",
   "metadata": {},
   "outputs": [
    {
     "data": {
      "text/plain": [
       "'C:\\\\Users\\\\hp\\\\Music\\\\NLP\\\\NLP_new'"
      ]
     },
     "execution_count": 4,
     "metadata": {},
     "output_type": "execute_result"
    }
   ],
   "source": [
    "pwd"
   ]
  },
  {
   "cell_type": "code",
   "execution_count": 5,
   "id": "5ffae8dc",
   "metadata": {},
   "outputs": [],
   "source": [
    "from nltk import sent_tokenize\n",
    "from gensim.utils import simple_preprocess\n",
    "\n",
    "story = []\n",
    "for filename in os.listdir('data'):\n",
    "    \n",
    "    f = open(os.path.join('data',filename))\n",
    "    corpus = f.read()\n",
    "    raw_sent = sent_tokenize(corpus)\n",
    "    for sent in raw_sent:\n",
    "        story.append(simple_preprocess(sent))"
   ]
  },
  {
   "cell_type": "code",
   "execution_count": 6,
   "id": "1b07acf7",
   "metadata": {},
   "outputs": [],
   "source": [
    "model = gensim.models.Word2Vec(\n",
    "    window=10,\n",
    "    min_count=2\n",
    ")"
   ]
  },
  {
   "cell_type": "code",
   "execution_count": 7,
   "id": "7eb31779",
   "metadata": {},
   "outputs": [],
   "source": [
    "model.build_vocab(story)"
   ]
  },
  {
   "cell_type": "code",
   "execution_count": 8,
   "id": "2837e706",
   "metadata": {},
   "outputs": [
    {
     "data": {
      "text/plain": [
       "(6569467, 8628190)"
      ]
     },
     "execution_count": 8,
     "metadata": {},
     "output_type": "execute_result"
    }
   ],
   "source": [
    "model.train(story, total_examples=model.corpus_count, epochs=model.epochs)"
   ]
  },
  {
   "cell_type": "code",
   "execution_count": 9,
   "id": "c39402d0",
   "metadata": {},
   "outputs": [
    {
     "data": {
      "text/plain": [
       "[('princess', 0.7669630646705627),\n",
       " ('margaery', 0.702097475528717),\n",
       " ('daenerys', 0.6760777831077576),\n",
       " ('cersei', 0.6540012359619141),\n",
       " ('myrcella', 0.6511226296424866),\n",
       " ('prince', 0.6472685933113098),\n",
       " ('imp', 0.6465227007865906),\n",
       " ('joffrey', 0.6462634205818176),\n",
       " ('elia', 0.6287571787834167),\n",
       " ('bride', 0.6186329126358032)]"
      ]
     },
     "execution_count": 9,
     "metadata": {},
     "output_type": "execute_result"
    }
   ],
   "source": [
    "model.wv.most_similar('queen')"
   ]
  },
  {
   "cell_type": "code",
   "execution_count": 10,
   "id": "e9556038",
   "metadata": {},
   "outputs": [
    {
     "data": {
      "text/plain": [
       "'jon'"
      ]
     },
     "execution_count": 10,
     "metadata": {},
     "output_type": "execute_result"
    }
   ],
   "source": [
    "model.wv.doesnt_match(['jon','rikon','robb','arya','sansa','bran']) #step brother"
   ]
  },
  {
   "cell_type": "code",
   "execution_count": 11,
   "id": "4461e8b7",
   "metadata": {},
   "outputs": [
    {
     "data": {
      "text/plain": [
       "'bronn'"
      ]
     },
     "execution_count": 11,
     "metadata": {},
     "output_type": "execute_result"
    }
   ],
   "source": [
    "model.wv.doesnt_match(['cersei', 'jaime', 'bronn', 'tyrion']) #Siblings"
   ]
  },
  {
   "cell_type": "code",
   "execution_count": 12,
   "id": "2b5aaf1f",
   "metadata": {},
   "outputs": [
    {
     "data": {
      "text/plain": [
       "array([ 0.908012  , -0.85979694,  0.49033198,  2.8067927 , -0.40427074,\n",
       "       -1.0517855 ,  0.01688919,  1.3379934 , -3.0503776 , -0.82689846,\n",
       "       -3.8302612 , -1.1565917 , -0.13306756,  1.1467083 , -2.2988741 ,\n",
       "       -0.9531317 , -0.8705215 ,  2.8949156 ,  1.677776  ,  0.95275056,\n",
       "        1.7890216 , -0.6937694 ,  1.5515077 , -1.7223259 , -0.7941202 ,\n",
       "        0.80691916, -1.4374999 , -1.338515  ,  0.7425168 ,  0.22746058,\n",
       "       -2.3651075 , -0.2112167 ,  0.30090228, -1.6450266 ,  2.5140626 ,\n",
       "       -2.7717228 , -3.3876243 , -2.0083342 ,  0.56945735, -2.884786  ,\n",
       "       -0.6031811 ,  1.6748971 ,  2.8760664 , -0.2853742 , -0.4070309 ,\n",
       "       -0.7252496 , -0.8207819 , -3.38284   ,  3.0522852 , -3.7801774 ,\n",
       "       -2.2482433 , -1.2734901 , -1.8601438 , -3.181355  ,  2.227383  ,\n",
       "       -2.188392  ,  0.70971113,  0.4856177 ,  0.9966728 ,  0.8493746 ,\n",
       "        0.854605  ,  1.0196478 ,  0.55309856,  0.8471303 ,  1.0449507 ,\n",
       "        2.1323252 , -2.1448755 , -0.3279912 , -0.41344327, -2.2050025 ,\n",
       "       -0.0151284 , -0.5043065 ,  4.1900506 , -0.40894595,  2.1473324 ,\n",
       "       -0.30571744, -0.33371016, -1.9504472 , -0.2018736 , -1.2896056 ,\n",
       "       -0.6549691 ,  4.4035764 , -2.7483013 , -1.8464252 , -2.4272668 ,\n",
       "       -2.662818  ,  0.4806569 ,  2.4915042 ,  2.050099  , -0.48451224,\n",
       "        1.8929764 ,  0.6001134 , -1.0574796 , -2.9722354 , -0.5769173 ,\n",
       "       -2.2133162 , -1.0568444 ,  0.5518132 , -1.4666408 , -0.22334816],\n",
       "      dtype=float32)"
      ]
     },
     "execution_count": 12,
     "metadata": {},
     "output_type": "execute_result"
    }
   ],
   "source": [
    "model.wv['king']"
   ]
  },
  {
   "cell_type": "code",
   "execution_count": 14,
   "id": "554c24e0",
   "metadata": {},
   "outputs": [
    {
     "data": {
      "text/plain": [
       "0.743418"
      ]
     },
     "execution_count": 14,
     "metadata": {},
     "output_type": "execute_result"
    }
   ],
   "source": [
    "model.wv.similarity('cersei','sansa')"
   ]
  },
  {
   "cell_type": "code",
   "execution_count": 15,
   "id": "9c4a110a",
   "metadata": {},
   "outputs": [
    {
     "data": {
      "text/plain": [
       "0.22721572"
      ]
     },
     "execution_count": 15,
     "metadata": {},
     "output_type": "execute_result"
    }
   ],
   "source": [
    "model.wv.similarity('tywin','sansa')"
   ]
  },
  {
   "cell_type": "code",
   "execution_count": null,
   "id": "a3c6b957",
   "metadata": {},
   "outputs": [],
   "source": []
  }
 ],
 "metadata": {
  "kernelspec": {
   "display_name": "Python 3 (ipykernel)",
   "language": "python",
   "name": "python3"
  },
  "language_info": {
   "codemirror_mode": {
    "name": "ipython",
    "version": 3
   },
   "file_extension": ".py",
   "mimetype": "text/x-python",
   "name": "python",
   "nbconvert_exporter": "python",
   "pygments_lexer": "ipython3",
   "version": "3.9.12"
  }
 },
 "nbformat": 4,
 "nbformat_minor": 5
}
