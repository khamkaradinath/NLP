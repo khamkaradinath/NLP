{
 "cells": [
  {
   "cell_type": "code",
   "execution_count": 1,
   "id": "71cc4448",
   "metadata": {},
   "outputs": [],
   "source": [
    "import re"
   ]
  },
  {
   "cell_type": "code",
   "execution_count": 65,
   "id": "36be439d",
   "metadata": {},
   "outputs": [],
   "source": [
    "chat1 = 'codebasics: you ask lot of questions 😠  1235678912, abc@xyz.com'\n",
    "chat2 = 'codebasics: here it is: (123)-567-8912, abc@xyz.com'\n",
    "chat3 = 'codebasics: yes, phone: 1235678912 email: abc133@xyz.com'"
   ]
  },
  {
   "cell_type": "code",
   "execution_count": 66,
   "id": "581bdcf3",
   "metadata": {},
   "outputs": [
    {
     "data": {
      "text/plain": [
       "['12356', '78912']"
      ]
     },
     "execution_count": 66,
     "metadata": {},
     "output_type": "execute_result"
    }
   ],
   "source": [
    "# chat1='codebasics: Hello, I am having an issue with my order # 412889912'\n",
    "\n",
    "pattern = '\\d{5}'\n",
    "matches = re.findall(pattern, chat1)\n",
    "matches"
   ]
  },
  {
   "cell_type": "code",
   "execution_count": 67,
   "id": "891e1efd",
   "metadata": {},
   "outputs": [],
   "source": [
    "pattern='\\d{10}|\\(\\d{3}\\)-\\d{3}-\\d{4}'\n",
    "matches2=re.findall(pattern,chat3)"
   ]
  },
  {
   "cell_type": "code",
   "execution_count": 68,
   "id": "bb18bf68",
   "metadata": {},
   "outputs": [
    {
     "data": {
      "text/plain": [
       "['1235678912']"
      ]
     },
     "execution_count": 68,
     "metadata": {},
     "output_type": "execute_result"
    }
   ],
   "source": [
    "matches2"
   ]
  },
  {
   "cell_type": "code",
   "execution_count": 69,
   "id": "998eae56",
   "metadata": {},
   "outputs": [],
   "source": [
    "pattern='[a-z0-9A-Z]*@[a-z.]*'\n",
    "matches3=re.findall(pattern,chat3)"
   ]
  },
  {
   "cell_type": "code",
   "execution_count": 70,
   "id": "da6a8bbd",
   "metadata": {},
   "outputs": [
    {
     "data": {
      "text/plain": [
       "['abc133@xyz.com']"
      ]
     },
     "execution_count": 70,
     "metadata": {},
     "output_type": "execute_result"
    }
   ],
   "source": [
    "matches3"
   ]
  },
  {
   "cell_type": "code",
   "execution_count": 114,
   "id": "3c652844",
   "metadata": {},
   "outputs": [
    {
     "data": {
      "text/plain": [
       "['412889912']"
      ]
     },
     "execution_count": 114,
     "metadata": {},
     "output_type": "execute_result"
    }
   ],
   "source": [
    "chat1='codebasics: Hello, I am having an issue with my order # 412889912'\n",
    "pattern=\"order [^\\d]*(\\d*)\"\n",
    "re.findall(pattern,chat1)"
   ]
  },
  {
   "cell_type": "code",
   "execution_count": 140,
   "id": "5d17ea37",
   "metadata": {},
   "outputs": [
    {
     "data": {
      "text/plain": [
       "['52', '43']"
      ]
     },
     "execution_count": 140,
     "metadata": {},
     "output_type": "execute_result"
    }
   ],
   "source": [
    "info=\"Born Elon Reeve Musk June 28, 1971 (age 52) Pretoria, Transvaal, South Africa Citizenship South Africa Canada  adinath age 43 United States Education University of Pennsylvania (BA, BS)\"\n",
    "# pattern='age (\\d+)'\n",
    "re.findall(pattern,info)"
   ]
  },
  {
   "cell_type": "code",
   "execution_count": 148,
   "id": "b9ac836b",
   "metadata": {},
   "outputs": [],
   "source": [
    "pattern=\"\\(age .*\\n(.*)\""
   ]
  },
  {
   "cell_type": "code",
   "execution_count": 157,
   "id": "b65ceeea",
   "metadata": {},
   "outputs": [],
   "source": [
    " def find_pattern(self:pattern,text):\n",
    "        self.matches=re.findall(pattern,text)\n",
    "        if matches:\n",
    "            return self.matches"
   ]
  },
  {
   "cell_type": "code",
   "execution_count": 158,
   "id": "56d2bb81",
   "metadata": {},
   "outputs": [
    {
     "ename": "AttributeError",
     "evalue": "'str' object has no attribute 'matches'",
     "output_type": "error",
     "traceback": [
      "\u001b[1;31m---------------------------------------------------------------------------\u001b[0m",
      "\u001b[1;31mAttributeError\u001b[0m                            Traceback (most recent call last)",
      "Cell \u001b[1;32mIn[158], line 1\u001b[0m\n\u001b[1;32m----> 1\u001b[0m find_pattern(pattern,info)\n",
      "Cell \u001b[1;32mIn[157], line 2\u001b[0m, in \u001b[0;36mfind_pattern\u001b[1;34m(self, text)\u001b[0m\n\u001b[0;32m      1\u001b[0m \u001b[38;5;28;01mdef\u001b[39;00m \u001b[38;5;21mfind_pattern\u001b[39m(\u001b[38;5;28mself\u001b[39m:pattern,text):\n\u001b[1;32m----> 2\u001b[0m        \u001b[38;5;28mself\u001b[39m\u001b[38;5;241m.\u001b[39mmatches\u001b[38;5;241m=\u001b[39mre\u001b[38;5;241m.\u001b[39mfindall(pattern,text)\n\u001b[0;32m      3\u001b[0m        \u001b[38;5;28;01mif\u001b[39;00m matches:\n\u001b[0;32m      4\u001b[0m            \u001b[38;5;28;01mreturn\u001b[39;00m \u001b[38;5;28mself\u001b[39m\u001b[38;5;241m.\u001b[39mmatches\n",
      "\u001b[1;31mAttributeError\u001b[0m: 'str' object has no attribute 'matches'"
     ]
    }
   ],
   "source": [
    "find_pattern(pattern,info)"
   ]
  },
  {
   "cell_type": "code",
   "execution_count": null,
   "id": "ef26a30d",
   "metadata": {},
   "outputs": [],
   "source": []
  }
 ],
 "metadata": {
  "kernelspec": {
   "display_name": "Python 3 (ipykernel)",
   "language": "python",
   "name": "python3"
  },
  "language_info": {
   "codemirror_mode": {
    "name": "ipython",
    "version": 3
   },
   "file_extension": ".py",
   "mimetype": "text/x-python",
   "name": "python",
   "nbconvert_exporter": "python",
   "pygments_lexer": "ipython3",
   "version": "3.11.5"
  }
 },
 "nbformat": 4,
 "nbformat_minor": 5
}
